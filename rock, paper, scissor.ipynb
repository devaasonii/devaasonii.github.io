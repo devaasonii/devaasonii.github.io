{
 "cells": [
  {
   "cell_type": "code",
   "execution_count": 3,
   "metadata": {},
   "outputs": [
    {
     "name": "stdout",
     "output_type": "stream",
     "text": [
      "You choose\n",
      "\n",
      "    _______\n",
      "---'   ____)____\n",
      "          ______)\n",
      "          _______)\n",
      "         _______)\n",
      "---.__________)\n",
      "\n",
      "Computer choose\n",
      "\n",
      "    _______\n",
      "---'   ____)\n",
      "      (_____)\n",
      "      (_____)\n",
      "      (____)\n",
      "---.__(___)\n",
      "\n",
      "You Win\n"
     ]
    }
   ],
   "source": [
    "import random\n",
    "\n",
    "rock = '''\n",
    "    _______\n",
    "---'   ____)\n",
    "      (_____)\n",
    "      (_____)\n",
    "      (____)\n",
    "---.__(___)\n",
    "'''\n",
    "\n",
    "paper = '''\n",
    "    _______\n",
    "---'   ____)____\n",
    "          ______)\n",
    "          _______)\n",
    "         _______)\n",
    "---.__________)\n",
    "'''\n",
    "\n",
    "scissors = '''\n",
    "    _______\n",
    "---'   ____)____\n",
    "          ______)\n",
    "       __________)\n",
    "      (____)\n",
    "---.__(___)\n",
    "'''\n",
    "\n",
    "game_images = [rock, paper, scissors]\n",
    "\n",
    "# print(random.choice(game))\n",
    "user_input = int(input(\"What do you choose ?\"\n",
    "                       \"type 0 for rock, 1 for paper and 2 for scissors\"))\n",
    "print(\"You choose\")\n",
    "print(game_images[user_input])\n",
    "# 0, 1, 2\n",
    "computer_choice = random.randint(0,2)\n",
    "print(\"Computer choose\")\n",
    "print(game_images[computer_choice])\n",
    "\n",
    "\n",
    "if user_input >= 3 or user_input < 0:\n",
    "    print(\"You have entered invalid number.\")\n",
    "elif user_input == 0 and computer_choice == 2:\n",
    "    print(\"You Win\")\n",
    "elif computer_choice == 0 and user_input == 2:\n",
    "    print(\"You Lose\")\n",
    "elif user_input > computer_choice:\n",
    "    print(\"You Win\")\n",
    "elif computer_choice > user_input:\n",
    "    print(\"You Lose\")\n",
    "elif user_input == computer_choice:\n",
    "    print(\"It's a draw.\")"
   ]
  }
 ],
 "metadata": {
  "kernelspec": {
   "display_name": "Python 3",
   "language": "python",
   "name": "python3"
  },
  "language_info": {
   "codemirror_mode": {
    "name": "ipython",
    "version": 3
   },
   "file_extension": ".py",
   "mimetype": "text/x-python",
   "name": "python",
   "nbconvert_exporter": "python",
   "pygments_lexer": "ipython3",
   "version": "3.11.9"
  }
 },
 "nbformat": 4,
 "nbformat_minor": 2
}
